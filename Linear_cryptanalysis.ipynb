{
 "cells": [
  {
   "cell_type": "markdown",
   "metadata": {},
   "source": [
    "# Linear cryptanalysis\n",
    "\n",
    "In this file we study a method due to Matsui of breaking a block cipher with the help of linear relations. We analyze a simple cryptosystem described in the paper \"A Tutorial on Linear and Differential Cryptanalysis\" by Howard Heys.\n",
    "\n"
   ]
  },
  {
   "cell_type": "markdown",
   "metadata": {},
   "source": [
    "## Cryptosystem (basic Substitution-Permutation network)\n",
    "\n",
    "Input: plaintext of 16 bits length\n",
    "Output: ciphertext of 16 bits length\n",
    "\n",
    "Key: 80 bit key which we split into five 16-bit round keys $K_1, K_2, K_3, K_4, K_5$\n",
    "\n",
    "This cryptosystem consists of 4 rounds. In each round $i$ we XOR with the round key $K_i$ split a block of 16 bits into 4 bit subblocks to which we apply an Sbox type transformation (non-linear). To each block we apply the same transformation. After that we apply to the list of $4$ blocks a permutation $P$. \n",
    "After the final round we XOR with the key $K_5$."
   ]
  },
  {
   "cell_type": "code",
   "execution_count": 1,
   "metadata": {},
   "outputs": [],
   "source": [
    "#Permutation P\n",
    "Plist=[1,5,9,13,2,6,10,14,3,7,11,15,4,8,12,16];\n",
    "\n",
    "def P(block16):\n",
    "    return [block16[x] for x in Plist]"
   ]
  },
  {
   "cell_type": "code",
   "execution_count": 38,
   "metadata": {},
   "outputs": [],
   "source": [
    "#SBox\n",
    "\n",
    "def BlockToHex(key):\n",
    "    size=len(key)//4\n",
    "    hlist=[]\n",
    "    for i in range(0,size):\n",
    "        kpart=key[4*i:4*i+4]\n",
    "        hlist.append(hex(int(''.join(map(str,kpart)),base=2))[2:].upper())\n",
    "    return ''.join(hlist)\n",
    "\n",
    "def leftpadding(li,n):\n",
    "    return [0]*(n-len(li))+li\n",
    "\n",
    "def HexToBlock(h):\n",
    "    key=[]\n",
    "    for hel in h:\n",
    "        key+=leftpadding(map(int,bin(int(hel,base=16))[2:]),4)\n",
    "    return key\n",
    "\n",
    "Sboxlist=['E','4','D','1','2','F','B','8','3','A','6','C','5','9','0','7']\n",
    "\n",
    "#print([x[1] for x in list(sorted([[x[1],x[0]] for x in zip(list(sorted(Sboxlist)),Sboxlist)]))])\n",
    "Sboxinvlist=['E', '3', '4', '8', '1', 'C', 'A', 'F', '7', 'D', '9', '6', 'B', '2', '0', '5']\n",
    "\n",
    "def SBox(chunk4):\n",
    "    return HexToBlock(Sboxlist[int(BlockToHex(chunk4),base=16)])\n",
    "\n",
    "def SBoxinv(chunk4):\n",
    "    return HexToBlock(Sboxinvlist[int(BlockToHex(chunk4),base=16)])\n",
    "\n",
    "\n",
    "def S(block16):\n",
    "    Sout=[]\n",
    "    for i in range(0,4):\n",
    "        Sout+=SBox(block16[4*i:4*(i+1)])\n",
    "    return Sout\n",
    "\n",
    "def Sinv(block16):\n",
    "    Sout=[]\n",
    "    for i in range(0,4):\n",
    "        Sout+=SBoxinv(block16[4*i:4*(i+1)])\n",
    "    return Sout"
   ]
  },
  {
   "cell_type": "code",
   "execution_count": 2,
   "metadata": {},
   "outputs": [],
   "source": [
    "#XORing lists\n",
    "def ListXOR(li1,li2):\n",
    "    return [li1[i]^^li2[i] for i in range(0,len(li1))]"
   ]
  },
  {
   "cell_type": "code",
   "execution_count": 25,
   "metadata": {},
   "outputs": [],
   "source": [
    "#Key schedule\n",
    "def KeySchedule(key80):\n",
    "    return [key80[16*i:16*(i+1)] for i in range(0,5)]\n",
    "\n",
    "def RoundKey(expkey,r):\n",
    "    return expkey[r]"
   ]
  },
  {
   "cell_type": "code",
   "execution_count": 26,
   "metadata": {},
   "outputs": [],
   "source": [
    "def SPNEncryption(plaintext16,key80):\n",
    "    expkey=KeySchedule(key80)\n",
    "    state=plaintext16\n",
    "    \n",
    "    #round 1\n",
    "    state=ListXOR(state,RoundKey(expkey,0))\n",
    "    state=S(state)\n",
    "    state=P(state)\n",
    "    \n",
    "    #round 2\n",
    "    \n",
    "    state=ListXOR(state,RoundKey(expkey,1))\n",
    "    state=S(state)\n",
    "    state=P(state)\n",
    "    \n",
    "    #round 3\n",
    "    \n",
    "    state=ListXOR(state,RoundKey(expkey,2))\n",
    "    state=S(state)\n",
    "    state=P(state)\n",
    "    \n",
    "    #round 4\n",
    "    \n",
    "    state=ListXOR(state,RoundKey(expkey,3))\n",
    "    state=S(state)\n",
    "    \n",
    "    #final XOR\n",
    "    state=ListXOR(state,RoundKey(expkey,4))\n",
    "    \n",
    "    return state"
   ]
  },
  {
   "cell_type": "code",
   "execution_count": null,
   "metadata": {},
   "outputs": [],
   "source": [
    "def SPNDecryption(plaintext16,key80):\n",
    "    expkey=KeySchedule(key80)\n",
    "    state=plaintext16\n",
    "    \n",
    "    pass\n",
    "\n",
    "\n"
   ]
  },
  {
   "cell_type": "code",
   "execution_count": 41,
   "metadata": {},
   "outputs": [],
   "source": [
    "#Trying Sboxes"
   ]
  },
  {
   "cell_type": "code",
   "execution_count": 42,
   "metadata": {},
   "outputs": [],
   "source": [
    "def Test1(X,Y):\n",
    "    return SBox(X)==Y"
   ]
  },
  {
   "cell_type": "code",
   "execution_count": 43,
   "metadata": {},
   "outputs": [],
   "source": [
    "def TestLinEq(X,Y,lin):\n",
    "    a1,a2,a3,a4,b1,b2,b3,b4=list(lin)\n",
    "    X1,X2,X3,X4=list(X)\n",
    "    Y1,Y2,Y3,Y4=list(Y)\n",
    "    return (a1*X1+a2*X2+a3*X3+a4*X4+b1*Y1+b2*Y2+b3*Y3+b4*Y4)%2==0"
   ]
  },
  {
   "cell_type": "code",
   "execution_count": 44,
   "metadata": {},
   "outputs": [],
   "source": [
    "f=lambda X: TestLinEq(X,SBox(X),[0,1,1,0,1,0,1,1])"
   ]
  },
  {
   "cell_type": "code",
   "execution_count": 47,
   "metadata": {},
   "outputs": [
    {
     "data": {
      "text/plain": [
       "[[0, 0, 0, 0],\n",
       " [0, 0, 0, 1],\n",
       " [0, 0, 1, 1],\n",
       " [0, 1, 0, 0],\n",
       " [0, 1, 0, 1],\n",
       " [1, 0, 0, 0],\n",
       " [1, 0, 0, 1],\n",
       " [1, 0, 1, 0],\n",
       " [1, 0, 1, 1],\n",
       " [1, 1, 0, 0],\n",
       " [1, 1, 1, 0],\n",
       " [1, 1, 1, 1]]"
      ]
     },
     "execution_count": 47,
     "metadata": {},
     "output_type": "execute_result"
    }
   ],
   "source": [
    "li=[[X1,X2,X3,X4] for X1 in [0,1] for X2 in [0,1] for X3 in [0,1] for X4 in [0,1] if f([X1,X2,X3,X4])]\n",
    "li"
   ]
  },
  {
   "cell_type": "code",
   "execution_count": 50,
   "metadata": {},
   "outputs": [
    {
     "data": {
      "text/plain": [
       "1/4"
      ]
     },
     "execution_count": 50,
     "metadata": {},
     "output_type": "execute_result"
    }
   ],
   "source": [
    "bias=(len(li)/16)-1/2\n",
    "bias"
   ]
  },
  {
   "cell_type": "code",
   "execution_count": null,
   "metadata": {},
   "outputs": [],
   "source": []
  }
 ],
 "metadata": {
  "kernelspec": {
   "display_name": "SageMath 8.9",
   "language": "sage",
   "name": "sagemath"
  },
  "language_info": {
   "codemirror_mode": {
    "name": "ipython",
    "version": 2
   },
   "file_extension": ".py",
   "mimetype": "text/x-python",
   "name": "python",
   "nbconvert_exporter": "python",
   "pygments_lexer": "ipython2",
   "version": "2.7.15"
  }
 },
 "nbformat": 4,
 "nbformat_minor": 2
}
