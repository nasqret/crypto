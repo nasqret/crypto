{
 "cells": [
  {
   "cell_type": "markdown",
   "metadata": {},
   "source": [
    "# DES algorithm\n",
    "In this file we have a complete description of the DES algorithm.\n",
    "\n",
    "Take a look at https://github.com/0x10001/des/tree/master/des to see a more optimized Python implementation."
   ]
  },
  {
   "cell_type": "code",
   "execution_count": 1,
   "metadata": {},
   "outputs": [],
   "source": [
    "#Setup\n",
    "INITIAL_PERMUTATION = [\n",
    "    57, 49, 41, 33, 25, 17, 9,  1,\n",
    "    59, 51, 43, 35, 27, 19, 11, 3,\n",
    "    61, 53, 45, 37, 29, 21, 13, 5,\n",
    "    63, 55, 47, 39, 31, 23, 15, 7,\n",
    "    56, 48, 40, 32, 24, 16, 8,  0,\n",
    "    58, 50, 42, 34, 26, 18, 10, 2,\n",
    "    60, 52, 44, 36, 28, 20, 12, 4,\n",
    "    62, 54, 46, 38, 30, 22, 14, 6,\n",
    "]\n",
    "G = SymmetricGroup(range(0,64))\n",
    "IPperm=PermutationGroupElement(INITIAL_PERMUTATION,G)\n",
    "\n",
    "INVERSE_PERMUTATION=[(IPperm**(-1))(i) for i in range(0,64)]\n",
    "\n",
    "def IP(data):\n",
    "    return [data[INITIAL_PERMUTATION[k]] for k in range(0,64)]\n",
    "def IPinv(data):\n",
    "    return [data[INVERSE_PERMUTATION[k]] for k in range(0,64)]\n",
    "\n",
    "EXPANSION =[\n",
    "    31, 0,  1,  2,  3,  4,\n",
    "    3,  4,  5,  6,  7,  8,\n",
    "    7,  8,  9,  10, 11, 12,\n",
    "    11, 12, 13, 14, 15, 16,\n",
    "    15, 16, 17, 18, 19, 20,\n",
    "    19, 20, 21, 22, 23, 24,\n",
    "    23, 24, 25, 26, 27, 28,\n",
    "    27, 28, 29, 30, 31, 0,\n",
    "    ]\n",
    "def Expansion(data):\n",
    "    return [data[EXPANSION[k]] for k in range(0,48)]\n",
    "    \n",
    "PERMUTATION_P = [\n",
    "    15, 6,  19, 20, 28, 11, 27, 16,\n",
    "    0,  14, 22, 25, 4,  17, 30, 9,\n",
    "    1,  7,  23, 13, 31, 26, 2,  8,\n",
    "    18, 12, 29, 5,  21, 10, 3,  24]\n",
    "\n",
    "def PermuteP(R):\n",
    "    return [R[PERMUTATION_P[k]] for k in range(0,32)]"
   ]
  },
  {
   "cell_type": "code",
   "execution_count": 2,
   "metadata": {},
   "outputs": [
    {
     "data": {
      "text/plain": [
       "(0,57,54,12,27,39)(1,49,52,28,31,7)(2,41,50,44,26,47)(3,33,48,60,30,15)(4,25,55)(5,17,53,20,29,23)(6,9,51,36,24,63)(8,59,38)(10,43,34,40,58,46)(11,35,32,56,62,14)(13,19,37,16,61,22)(18,45)"
      ]
     },
     "execution_count": 2,
     "metadata": {},
     "output_type": "execute_result"
    }
   ],
   "source": [
    "IPperm"
   ]
  },
  {
   "cell_type": "markdown",
   "metadata": {},
   "source": [
    "Helper functions used in rounds."
   ]
  },
  {
   "cell_type": "code",
   "execution_count": 3,
   "metadata": {},
   "outputs": [],
   "source": [
    "def Split(data):\n",
    "    return data[:32],data[32:]\n",
    "\n",
    "def Unsplit(L,R):\n",
    "    return L+R\n",
    "\n",
    "def BSplit(data):\n",
    "    return [data[6*i:6*i+6] for i in range(0,8)]\n",
    "    \n",
    "def ListXOR(li1,li2):\n",
    "    return [li1[i]^^li2[i] for i in range(0,len(li1))]"
   ]
  },
  {
   "cell_type": "markdown",
   "metadata": {},
   "source": [
    "## Heart of the algorithm - the SBox function\n",
    "SBox function is a nonlinear part of the DES algorithm which uses a nonlinear transform of a collection of 6 bits into four bits. We use six different SBox type subsitutions in DES."
   ]
  },
  {
   "cell_type": "code",
   "execution_count": 4,
   "metadata": {},
   "outputs": [],
   "source": [
    "\n",
    "SUBSTITUTION_BOX = [\n",
    "    [\n",
    "        [14, 4,  13, 1,  2,  15, 11, 8,  3,  10, 6,  12, 5,  9,  0,  7],\n",
    "        [0,  15, 7,  4,  14, 2,  13, 1,  10, 6,  12, 11, 9,  5,  3,  8],\n",
    "        [4,  1,  14, 8,  13, 6,  2,  11, 15, 12, 9,  7,  3,  10, 5,  0],\n",
    "        [15, 12, 8,  2,  4,  9,  1,  7,  5,  11, 3,  14, 10, 0,  6,  13],\n",
    "    ],\n",
    "    [\n",
    "        [15, 1,  8,  14, 6,  11, 3,  4,  9,  7,  2,  13, 12, 0,  5,  10],\n",
    "        [3,  13, 4,  7,  15, 2,  8,  14, 12, 0,  1,  10, 6,  9,  11, 5],\n",
    "        [0,  14, 7,  11, 10, 4,  13, 1,  5,  8,  12, 6,  9,  3,  2,  15],\n",
    "        [13, 8,  10, 1,  3,  15, 4,  2,  11, 6,  7,  12, 0,  5,  14, 9],\n",
    "    ],\n",
    "    [\n",
    "        [10, 0,  9,  14, 6,  3,  15, 5,  1,  13, 12, 7,  11, 4,  2,  8],\n",
    "        [13, 7,  0,  9,  3,  4,  6,  10, 2,  8,  5,  14, 12, 11, 15, 1],\n",
    "        [13, 6,  4,  9,  8,  15, 3,  0,  11, 1,  2,  12, 5,  10, 14, 7],\n",
    "        [1,  10, 13, 0,  6,  9,  8,  7,  4,  15, 14, 3,  11, 5,  2,  12],\n",
    "    ],\n",
    "    [\n",
    "        [7,  13, 14, 3,  0,  6,  9,  10, 1,  2,  8,  5,  11, 12, 4,  15],\n",
    "        [13, 8,  11, 5,  6,  15, 0,  3,  4,  7,  2,  12, 1,  10, 14, 9],\n",
    "        [10, 6,  9,  0,  12, 11, 7,  13, 15, 1,  3,  14, 5,  2,  8,  4],\n",
    "        [3,  15, 0,  6,  10, 1,  13, 8,  9,  4,  5,  11, 12, 7,  2,  14],\n",
    "    ],\n",
    "    [\n",
    "        [2,  12, 4,  1,  7,  10, 11, 6,  8,  5,  3,  15, 13, 0,  14, 9],\n",
    "        [14, 11, 2,  12, 4,  7,  13, 1,  5,  0,  15, 10, 3,  9,  8,  6],\n",
    "        [4,  2,  1,  11, 10, 13, 7,  8,  15, 9,  12, 5,  6,  3,  0,  14],\n",
    "        [11, 8,  12, 7,  1,  14, 2,  13, 6,  15, 0,  9,  10, 4,  5,  3],\n",
    "    ],\n",
    "    [\n",
    "        [12, 1,  10, 15, 9,  2,  6,  8,  0,  13, 3,  4,  14, 7,  5,  11],\n",
    "        [10, 15, 4,  2,  7,  12, 9,  5,  6,  1,  13, 14, 0,  11, 3,  8],\n",
    "        [9,  14, 15, 5,  2,  8,  12, 3,  7,  0,  4,  10, 1,  13, 11, 6],\n",
    "        [4,  3,  2,  12, 9,  5,  15, 10, 11, 14, 1,  7,  6,  0,  8,  13],\n",
    "    ],\n",
    "    [\n",
    "        [4,  11,  2, 14, 15, 0,  8,  13, 3,  12, 9,  7,  5,  10, 6,  1],\n",
    "        [13, 0,  11, 7,  4,  9,  1,  10, 14, 3,  5,  12, 2,  15, 8,  6],\n",
    "        [1,  4,  11, 13, 12, 3,  7,  14, 10, 15, 6,  8,  0,  5,  9,  2],\n",
    "        [6,  11, 13, 8,  1,  4,  10, 7,  9,  5,  0,  15, 14, 2,  3,  12],\n",
    "    ],\n",
    "    [\n",
    "        [13, 2,  8,  4,  6,  15, 11, 1,  10, 9,  3,  14, 5,  0,  12, 7],\n",
    "        [1,  15, 13, 8,  10, 3,  7,  4,  12, 5,  6,  11, 0,  14, 9,  2],\n",
    "        [7,  11, 4,  1,  9,  12, 14, 2,  0,  6,  10, 13, 15, 3,  5,  8],\n",
    "        [2,  1,  14, 7,  4,  10, 8,  13, 15, 12, 9,  0,  3,  5,  6,  11],\n",
    "    ],\n",
    "]\n",
    "\n",
    "def SBox(data48):\n",
    "    Blist=BSplit(data48)\n",
    "    Sout=[]\n",
    "    for i in range(0,8):\n",
    "        B=Blist[i]\n",
    "        S=SUBSTITUTION_BOX[i] \n",
    "        b0,b1,b2,b3,b4,b5=B\n",
    "        r=2*b0+b5 #wybór wiersza\n",
    "        c=8*b1+4*b2+2*b3+b4 #wybór kolumny\n",
    "        Sout+=S[r][c].digits(base=2,padto=4)[::-1] #wyrównanie do 4 bitów\n",
    "    return Sout"
   ]
  },
  {
   "cell_type": "markdown",
   "metadata": {},
   "source": [
    "## Feistela function - source of key mixing in DES\n",
    "Feistel function is a composition of SBox functions with XOR which applies to the right (R) part of data combined with the round key (K). At the end we apply an extra permutation (P)."
   ]
  },
  {
   "cell_type": "code",
   "execution_count": 5,
   "metadata": {},
   "outputs": [],
   "source": [
    "def FeistelFunction(R,K):\n",
    "    return PermuteP(SBox(ListXOR(Expansion(R),K)))"
   ]
  },
  {
   "cell_type": "markdown",
   "metadata": {},
   "source": [
    "## KeySchedule function\n",
    "\n",
    "KeySchedule function expands the input 64 bit key into a collection of sixteen 48 bit round keys, which are then used in as the input in Feistel function."
   ]
  },
  {
   "cell_type": "code",
   "execution_count": 6,
   "metadata": {},
   "outputs": [],
   "source": [
    "\n",
    "#in rounds zeroth, first, eight we shift by 1\n",
    "ROTATES = [1, 1, 2, 2, 2, 2, 2, 2, 1, 2, 2, 2, 2, 2, 2, 1]\n",
    "\n",
    "PERMUTED_CHOICE1 = [\n",
    "    56, 48, 40, 32, 24, 16, 8,\n",
    "    0,  57, 49, 41, 33, 25, 17,\n",
    "    9,  1,  58, 50, 42, 34, 26,\n",
    "    18, 10, 2,  59, 51, 43, 35,\n",
    "    62, 54, 46, 38, 30, 22, 14,\n",
    "    6,  61, 53, 45, 37, 29, 21,\n",
    "    13, 5,  60, 52, 44, 36, 28,\n",
    "    20, 12, 4,  27, 19, 11, 3,\n",
    "]\n",
    "\n",
    "PERMUTED_CHOICE2 = [\n",
    "    13, 16, 10, 23, 0,  4,\n",
    "    2,  27, 14, 5,  20, 9,\n",
    "    22, 18, 11, 3,  25, 7,\n",
    "    15, 6,  26, 19, 12, 1,\n",
    "    40, 51, 30, 36, 46, 54,\n",
    "    29, 39, 50, 44, 32, 47,\n",
    "    43, 48, 38, 55, 33, 52,\n",
    "    45, 41, 49, 35, 28, 31,\n",
    "]\n",
    "\n",
    "#cyclic rotation by n positions to the left\n",
    "def CyclicRot(li,n):\n",
    "    l=len(li)\n",
    "    return li[n%l:]+li[:-((l-n)%l)]\n",
    "\n",
    "def KeySchedule(key):\n",
    "    '''key has 64 bits; output: 16 keys Ki, each of size 48 bits\n",
    "    '''\n",
    "    PC1=[key[el] for el in PERMUTED_CHOICE1]\n",
    "    C0=PC1[:28]\n",
    "    D0=PC1[28:]\n",
    "    Cim1=C0\n",
    "    Dim1=D0\n",
    "    Kli=[]\n",
    "    for i in range(1,17):\n",
    "        v=ROTATES[i-1]\n",
    "        Ci=CyclicRot(Cim1,v)\n",
    "        Di=CyclicRot(Dim1,v)\n",
    "        CDi=Ci+Di\n",
    "        PC2=[CDi[el] for el in PERMUTED_CHOICE2]\n",
    "        Ki=PC2\n",
    "        Kli.append(Ki)\n",
    "        Cim1=Ci\n",
    "        Dim1=Di\n",
    "    return Kli"
   ]
  },
  {
   "cell_type": "markdown",
   "metadata": {},
   "source": [
    "## DES encryption\n",
    "The first and final instruction of DES is a permutation IP and its inverse. They do not affect the security of the protocol and are kept only for historical and compatibility reasons (they are essential from the point of view of a hardware implementation; in the software version it is better to ignore them, however the results will be incompatible with standard DES)\n",
    "\n",
    "In 16 rounds we add the round keys with the help of a Feistel function."
   ]
  },
  {
   "cell_type": "code",
   "execution_count": 7,
   "metadata": {},
   "outputs": [],
   "source": [
    "def DESEncryption(plaintext,key):\n",
    "    expkey=KeySchedule(key)\n",
    "    L=[]\n",
    "    R=[]\n",
    "    L0,R0=Split(IP(plaintext))\n",
    "    L.append(L0)\n",
    "    R.append(R0)\n",
    "    Lim1=L0\n",
    "    Rim1=R0\n",
    "    for i in range(1,17):\n",
    "        Li=Rim1\n",
    "        Ki=expkey[i-1]\n",
    "        Ri=ListXOR(Lim1,FeistelFunction(Rim1,Ki))\n",
    "        L.append(Li)\n",
    "        R.append(Ri)\n",
    "        Lim1=Li\n",
    "        Rim1=Ri\n",
    "    return IPinv(Unsplit(Ri,Li))"
   ]
  },
  {
   "cell_type": "markdown",
   "metadata": {},
   "source": [
    "## DES decryption\n",
    "In this function we only change the order in which the round keys are given (compared to the original order)."
   ]
  },
  {
   "cell_type": "code",
   "execution_count": 8,
   "metadata": {},
   "outputs": [],
   "source": [
    "def DESDecryption(cipher,key):\n",
    "    expkey=KeySchedule(key)\n",
    "    L=[]\n",
    "    R=[]\n",
    "    L0,R0=Split(IP(cipher))\n",
    "    L.append(L0)\n",
    "    R.append(R0)\n",
    "    Lim1=L0\n",
    "    Rim1=R0\n",
    "    for i in range(16,0,-1):\n",
    "        Li=Rim1\n",
    "        Ki=expkey[i-1]\n",
    "        Ri=ListXOR(Lim1,FeistelFunction(Rim1,Ki))\n",
    "        L.append(Li)\n",
    "        R.append(Ri)\n",
    "        Lim1=Li\n",
    "        Rim1=Ri\n",
    "    return IPinv(Unsplit(Ri,Li))"
   ]
  },
  {
   "cell_type": "markdown",
   "metadata": {},
   "source": [
    "## Testing on random input\n",
    "A composition of the encryption with decryption should provide the original `data` sequence in each case."
   ]
  },
  {
   "cell_type": "markdown",
   "metadata": {},
   "source": [
    "Every 8th bit in the key is an odd parity bit. So to generate a full key we only need 56 bits of input. The other 8 are generated from the parity."
   ]
  },
  {
   "cell_type": "code",
   "execution_count": 9,
   "metadata": {},
   "outputs": [],
   "source": [
    "def GenerateKey(key56input):\n",
    "    key=[]\n",
    "    for i in range(0,8):\n",
    "        genpart=key56input[7*i:7*i+7]\n",
    "        parity=(sum(genpart)+1)%2 #sum of every 7 bits should be odd\n",
    "        key+=genpart+[parity]\n",
    "    \n",
    "    return key"
   ]
  },
  {
   "cell_type": "code",
   "execution_count": 10,
   "metadata": {},
   "outputs": [],
   "source": [
    "#testing\n",
    "for _ in range(0,1000):\n",
    "    data=[choice([0,1]) for _ in range(0,64)]\n",
    "    key=GenerateKey([choice([0,1]) for _ in range(0,56)])\n",
    "    cipher=DESEncryption(data,key)\n",
    "    plain=DESDecryption(cipher,key)\n",
    "    assert plain==data"
   ]
  },
  {
   "cell_type": "markdown",
   "metadata": {},
   "source": [
    "## Exercises"
   ]
  },
  {
   "cell_type": "markdown",
   "metadata": {},
   "source": [
    "### Exercise 1\n",
    "Investigate how many rounds of the DES algorithm is enough to see that a single bit of a plain text will affect every bit of the cryptogram."
   ]
  },
  {
   "cell_type": "code",
   "execution_count": 11,
   "metadata": {},
   "outputs": [],
   "source": [
    "def DESEncryptionParam(plaintext,key,n=17):\n",
    "    expkey=KeySchedule(key)\n",
    "    L=[]\n",
    "    R=[]\n",
    "    L0,R0=Split(IP(plaintext))\n",
    "    L.append(L0)\n",
    "    R.append(R0)\n",
    "    Lim1=L0\n",
    "    Rim1=R0\n",
    "    for i in range(1,n):\n",
    "        Li=Rim1\n",
    "        Ki=expkey[i-1]\n",
    "        Ri=ListXOR(Lim1,FeistelFunction(Rim1,Ki))\n",
    "        L.append(Li)\n",
    "        R.append(Ri)\n",
    "        Lim1=Li\n",
    "        Rim1=Ri\n",
    "    return IPinv(Unsplit(Ri,Li))\n",
    "\n",
    "def DetectDiff(plain,key,bitchange,n=17):\n",
    "    cipher1=DESEncryptionParam(plain,key,n)\n",
    "    plain[bitchange]=1-plain[bitchange]\n",
    "    cipher2=DESEncryptionParam(plain,key,n)\n",
    "    return cipher1,cipher2"
   ]
  },
  {
   "cell_type": "code",
   "execution_count": 12,
   "metadata": {},
   "outputs": [],
   "source": [
    "def ChangeInfluence(pos,r):\n",
    "    c1,c2=DetectDiff([choice([0,1]) for _ in range(0,64)],GenerateKey([choice([0,1]) for _ in range(0,56)]),pos,r)\n",
    "    c1c2diff=ListXOR(c1,c2)\n",
    "    return c1c2diff.count(1)/64.0"
   ]
  },
  {
   "cell_type": "code",
   "execution_count": 13,
   "metadata": {},
   "outputs": [
    {
     "data": {
      "image/png": "[encoded data removed]",
      "text/plain": [
       "Graphics object consisting of 1 graphics primitive"
      ]
     },
     "execution_count": 13,
     "metadata": {},
     "output_type": "execute_result"
    }
   ],
   "source": [
    "list_plot([(i,sum([ChangeInfluence(0,i) for _ in range(0,50)])/50) for i in range(2,18)])"
   ]
  },
  {
   "cell_type": "markdown",
   "metadata": {},
   "source": [
    "### Exercise 2\n",
    "Find all so-called weak keys, i.e. keys such that in each round they generate the same round key.\n",
    "Answer: (in hexadecimal format)\n",
    "\n",
    "* 01010101 01010101\n",
    "* E0E0E0E0 F1F1F1F1\n",
    "* 1F1F1F1F 0E0E0E0E\n",
    "* FEFEFEFE FEFEFEFE\n",
    "\n",
    "Below we explain where does this answer comes from (linear algebra task!)."
   ]
  },
  {
   "cell_type": "code",
   "execution_count": 14,
   "metadata": {},
   "outputs": [],
   "source": [
    "#Find a system of equations which the 56 free variables must satisfy.\n",
    "KR=PolynomialRing(GF(2),56,'k')\n",
    "key=list(KR.gens())\n",
    "for i in range(1,8): #every 8th bit is the parity (standard)\n",
    "    key.insert(8*i-1,sum([key[8*i-(j+2)] for j in range(0,7)])+1)\n",
    "expkey=KeySchedule(key)\n",
    "vli=[vector(ek) for ek in expkey]\n",
    "eqs=[]\n",
    "for i in range(1,16):\n",
    "    eqs+=list(vli[0]-vli[i])\n",
    "    \n",
    "I=KR.ideal(eqs)\n",
    "bas=I.groebner_basis()\n",
    "kgens=list(KR.gens())\n",
    "m=matrix(GF(2),[[b.coefficient(k) for k in kgens] for b in bas])\n",
    "ker=m.transpose().kernel()\n",
    "assert ker.dimension()==2 #so we have four keys\n",
    "\n"
   ]
  },
  {
   "cell_type": "markdown",
   "metadata": {},
   "source": [
    "Solutions"
   ]
  },
  {
   "cell_type": "code",
   "execution_count": 15,
   "metadata": {},
   "outputs": [],
   "source": [
    "kerbas=ker.basis()\n",
    "k1=0*kerbas[0]\n",
    "k2=kerbas[0]\n",
    "k3=kerbas[1]\n",
    "k4=k2+k3"
   ]
  },
  {
   "cell_type": "code",
   "execution_count": 1,
   "metadata": {},
   "outputs": [],
   "source": [
    "def KeyToHex(key):\n",
    "    size=len(key)//4\n",
    "    hlist=[]\n",
    "    for i in range(0,size):\n",
    "        kpart=key[4*i:4*i+4]\n",
    "        hlist.append(hex(int(''.join(map(str,kpart)),base=2))[2:].upper())\n",
    "    return ''.join(hlist)\n",
    "def HexToKey(h):\n",
    "    key=[]\n",
    "    for hel in h:\n",
    "        key+=map(int,bin(int(hel,base=16))[2:])\n",
    "    return key"
   ]
  },
  {
   "cell_type": "code",
   "execution_count": 17,
   "metadata": {},
   "outputs": [
    {
     "name": "stdout",
     "output_type": "stream",
     "text": [
      "Initial key\n",
      "0101010101010101\n",
      "\n",
      "Round key\n",
      "000000000000\n",
      "000000000000\n",
      "000000000000\n",
      "000000000000\n",
      "000000000000\n",
      "000000000000\n",
      "000000000000\n",
      "000000000000\n",
      "000000000000\n",
      "000000000000\n",
      "000000000000\n",
      "000000000000\n",
      "000000000000\n",
      "000000000000\n",
      "000000000000\n",
      "000000000000\n"
     ]
    }
   ],
   "source": [
    "k=k1\n",
    "key=GenerateKey(list(k))\n",
    "print(\"Initial key\")\n",
    "print(KeyToHex(key))\n",
    "roundkeys1=KeySchedule(key)\n",
    "print(\"\\nRound key\")\n",
    "for el in roundkeys1:\n",
    "    #print(''.join(map(str,el)))\n",
    "    print(KeyToHex(el))"
   ]
  },
  {
   "cell_type": "code",
   "execution_count": 18,
   "metadata": {},
   "outputs": [
    {
     "name": "stdout",
     "output_type": "stream",
     "text": [
      "Initial key\n",
      "E0E0E0E0F1F1F1F1\n",
      "\n",
      "Round key\n",
      "FFFFFF000000\n",
      "FFFFFF000000\n",
      "FFFFFF000000\n",
      "FFFFFF000000\n",
      "FFFFFF000000\n",
      "FFFFFF000000\n",
      "FFFFFF000000\n",
      "FFFFFF000000\n",
      "FFFFFF000000\n",
      "FFFFFF000000\n",
      "FFFFFF000000\n",
      "FFFFFF000000\n",
      "FFFFFF000000\n",
      "FFFFFF000000\n",
      "FFFFFF000000\n",
      "FFFFFF000000\n"
     ]
    }
   ],
   "source": [
    "k=k2\n",
    "key=GenerateKey(list(k))\n",
    "print(\"Initial key\")\n",
    "print(KeyToHex(key))\n",
    "roundkeys1=KeySchedule(key)\n",
    "print(\"\\nRound key\")\n",
    "for el in roundkeys1:\n",
    "    #print(''.join(map(str,el)))\n",
    "    print(KeyToHex(el))"
   ]
  },
  {
   "cell_type": "code",
   "execution_count": 19,
   "metadata": {},
   "outputs": [
    {
     "name": "stdout",
     "output_type": "stream",
     "text": [
      "Initial key\n",
      "1F1F1F1F0E0E0E0E\n",
      "\n",
      "Round key\n",
      "000000FFFFFF\n",
      "000000FFFFFF\n",
      "000000FFFFFF\n",
      "000000FFFFFF\n",
      "000000FFFFFF\n",
      "000000FFFFFF\n",
      "000000FFFFFF\n",
      "000000FFFFFF\n",
      "000000FFFFFF\n",
      "000000FFFFFF\n",
      "000000FFFFFF\n",
      "000000FFFFFF\n",
      "000000FFFFFF\n",
      "000000FFFFFF\n",
      "000000FFFFFF\n",
      "000000FFFFFF\n"
     ]
    }
   ],
   "source": [
    "k=k3\n",
    "key=GenerateKey(list(k))\n",
    "print(\"Initial key\")\n",
    "print(KeyToHex(key))\n",
    "roundkeys1=KeySchedule(key)\n",
    "print(\"\\nRound key\")\n",
    "for el in roundkeys1:\n",
    "    #print(''.join(map(str,el)))\n",
    "    print(KeyToHex(el))"
   ]
  },
  {
   "cell_type": "code",
   "execution_count": 20,
   "metadata": {},
   "outputs": [
    {
     "name": "stdout",
     "output_type": "stream",
     "text": [
      "Initial key\n",
      "FEFEFEFEFEFEFEFE\n",
      "\n",
      "Round key\n",
      "FFFFFFFFFFFF\n",
      "FFFFFFFFFFFF\n",
      "FFFFFFFFFFFF\n",
      "FFFFFFFFFFFF\n",
      "FFFFFFFFFFFF\n",
      "FFFFFFFFFFFF\n",
      "FFFFFFFFFFFF\n",
      "FFFFFFFFFFFF\n",
      "FFFFFFFFFFFF\n",
      "FFFFFFFFFFFF\n",
      "FFFFFFFFFFFF\n",
      "FFFFFFFFFFFF\n",
      "FFFFFFFFFFFF\n",
      "FFFFFFFFFFFF\n",
      "FFFFFFFFFFFF\n",
      "FFFFFFFFFFFF\n"
     ]
    }
   ],
   "source": [
    "k=k4\n",
    "key=GenerateKey(list(k))\n",
    "print(\"Initial key\")\n",
    "print(KeyToHex(key))\n",
    "roundkeys1=KeySchedule(key)\n",
    "print(\"\\nRound key\")\n",
    "for el in roundkeys1:\n",
    "    #print(''.join(map(str,el)))\n",
    "    print(KeyToHex(el))"
   ]
  },
  {
   "cell_type": "markdown",
   "metadata": {},
   "source": [
    "A property of a weak key is that the encryption procedure is self-invertible\n",
    "\n",
    "For example:"
   ]
  },
  {
   "cell_type": "code",
   "execution_count": 21,
   "metadata": {},
   "outputs": [
    {
     "name": "stdout",
     "output_type": "stream",
     "text": [
      "All assertions are satisfied - a weak key provides a self-invertible procedure\n"
     ]
    }
   ],
   "source": [
    "weak_key=map(int,GenerateKey(list(k1)))\n",
    "\n",
    "for _ in range(0,1000):\n",
    "    data=[choice([0,1]) for _ in range(0,64)]\n",
    "    cipher=DESEncryption(data,weak_key)\n",
    "    plain=DESEncryption(cipher,weak_key)\n",
    "    assert plain==data\n",
    "    \n",
    "print(\"All assertions are satisfied - a weak key provides a self-invertible procedure\")"
   ]
  },
  {
   "cell_type": "markdown",
   "metadata": {},
   "source": [
    "TODO\n",
    "\n",
    "Semi-weak keys: 6 pairs of keys $K_1, K_2$, which satisfy  $E_{K_1}(E_{K_2}(x))=x$"
   ]
  },
  {
   "cell_type": "markdown",
   "metadata": {},
   "source": [
    "# TODO\n",
    "ECB i CBC (modes)"
   ]
  },
  {
   "cell_type": "markdown",
   "metadata": {},
   "source": [
    "### Exercise 3\n",
    "Justify that DES satisfies the condition\n",
    "\n",
    "$E_{K}(x) = \\overline{E_{\\overline{K}}(\\overline{x})}$\n",
    "\n",
    "where $\\overline{\\cdot}$ means a negation of bits.\n",
    "\n",
    "This property allows to have a small reduction in the algorithm of looking for the encryption key. Knowing two pairs $(P_1,C_1)$ and $(\\overline{P}_{1},C_2)$. It follows that\n",
    "\n",
    "$$\\overline{C}_{2} = E_{\\overline{K}}(P_1)$$\n",
    "\n",
    "so checking whether a given key $K$ with message $P_1$ generates $C_1$ or $\\overline{C}_{2}$ eliminates two keys at once: $K$ and $\\overline{K}$.\n",
    "\n",
    "<b>Warining</b>\n",
    "Brute force attack needs in total $2^{56}$ keys. A knowledge of a sufficient number of pairs (plaintext,cryptogram) might effectively lower this upper bound."
   ]
  },
  {
   "cell_type": "code",
   "execution_count": null,
   "metadata": {},
   "outputs": [],
   "source": []
  }
 ],
 "metadata": {
  "kernelspec": {
   "display_name": "SageMath 8.9",
   "language": "sage",
   "name": "sagemath"
  },
  "language_info": {
   "codemirror_mode": {
    "name": "ipython",
    "version": 2
   },
   "file_extension": ".py",
   "mimetype": "text/x-python",
   "name": "python",
   "nbconvert_exporter": "python",
   "pygments_lexer": "ipython2",
   "version": "2.7.15"
  }
 },
 "nbformat": 4,
 "nbformat_minor": 2
}
